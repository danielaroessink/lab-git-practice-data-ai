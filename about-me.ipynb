{
 "cells": [
  {
   "cell_type": "markdown",
   "metadata": {},
   "source": [
    "## About Me Lab: AI Engineering, Data Analytics & Data Science\n",
    "\n",
    "In this notebook, you'll write a short introduction about yourself using Python!\n",
    "\n",
    "### Instructions:\n",
    "- Fill in the variables below with your details.\n",
    "- Run the cell to print your introduction.\n",
    "\n",
    "### What to Include:\n",
    "- Your name.\n",
    "- Why you're interested in AI Engineering, Data Analytics or Data Science.\n",
    "- A fun fact about yourself or a goal for this course.\n"
   ]
  },
  {
   "cell_type": "code",
   "execution_count": 4,
   "metadata": {},
   "outputs": [
    {
     "name": "stdout",
     "output_type": "stream",
     "text": [
      "Hi! My name is Daniela Roessink. I’m excited to learn because Data science to achieve a next level in my data analysis skills and so I can fully transition in my career from actuarial science to become a full data scientist, to solve a more diverse and real-world problems. A fun fact about me is: I am an avid learner and I always have a new hobby in mind. Currently, apart from Ironhack I am also self-learning sewing, clothes making and knitting, I'm also doing a course about stock trading, I've just finish a course to become a professional translator (I speak 3 languages) and I've also created my own book club..\n"
     ]
    }
   ],
   "source": [
    "# About Me\n",
    "# Please fill in the following details.\n",
    "\n",
    "name = \"Daniela Roessink\"\n",
    "reason = \"Data science to achieve a next level in my data analysis skills and so I can fully transition in my career from actuarial science to become a full data scientist, to solve a more diverse and real-world problems\"\n",
    "fun_fact = \"I am an avid learner and I always have a new hobby in mind. Currently, apart from Ironhack I am also self-learning sewing, clothes making and knitting, I'm also doing a course about stock trading, I've just finish a course to become a professional translator (I speak 3 languages) and I've also created my own book club.\"\n",
    "\n",
    "print(f\"Hi! My name is {name}. I’m excited to learn because {reason}. A fun fact about me is: {fun_fact}.\")"
   ]
  }
 ],
 "metadata": {
  "kernelspec": {
   "display_name": "Python 3",
   "language": "python",
   "name": "python3"
  },
  "language_info": {
   "codemirror_mode": {
    "name": "ipython",
    "version": 3
   },
   "file_extension": ".py",
   "mimetype": "text/x-python",
   "name": "python",
   "nbconvert_exporter": "python",
   "pygments_lexer": "ipython3",
   "version": "3.9.6"
  }
 },
 "nbformat": 4,
 "nbformat_minor": 2
}
